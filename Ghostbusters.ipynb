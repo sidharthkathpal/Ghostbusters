{
  "nbformat": 4,
  "nbformat_minor": 0,
  "metadata": {
    "accelerator": "GPU",
    "colab": {
      "name": "LatestExperiments.ipynb",
      "provenance": [],
      "collapsed_sections": []
    },
    "kernelspec": {
      "display_name": "Python 3",
      "name": "python3",
      "language": "python"
    }
  },
  "cells": [
    {
      "cell_type": "markdown",
      "metadata": {
        "id": "tXpsHChxFQYy"
      },
      "source": [
        "**Ghostbusters: Co-occurence of varied class pairs, in the training and test Dataset**"
      ]
    },
    {
      "cell_type": "markdown",
      "metadata": {
        "id": "cM87qhpOFyij"
      },
      "source": [
        "Setup python libraries\n",
        "\n",
        "1.   TensorFlow\n",
        "2.   Keras\n",
        "3.   sklearn\n",
        "4.   openCV\n",
        "5.   Random\n",
        "6.   NumPy"
      ]
    },
    {
      "cell_type": "code",
      "metadata": {
        "id": "DtVn4Z3xGWy8"
      },
      "source": [
        "import tensorflow.compat.v2 as tf\n",
        "from tensorflow.keras import datasets, layers, models\n",
        "from sklearn import tree\n",
        "from sklearn.metrics import f1_score, recall_score, precision_score, accuracy_score\n",
        "import cv2\n",
        "import numpy as np\n",
        "import random"
      ],
      "execution_count": 2,
      "outputs": []
    },
    {
      "cell_type": "markdown",
      "metadata": {
        "id": "lVyrPHuiGcfz"
      },
      "source": [
        "Setup Variables\n",
        "\n",
        "\n"
      ]
    },
    {
      "cell_type": "code",
      "metadata": {
        "id": "KL5CYADv1vpZ"
      },
      "source": [
        "num_of_letters = 26 # @param {type:\"integer\"}\n",
        "num_of_train_images = 2500 # @param {type:\"integer\"}\n",
        "num_of_train_images_ub = 200 # @param {type:\"integer\"}\n",
        "batch_size = 64 # @param {type:\"integer\"}\n",
        "biased_ratio = 32 # @param {type:\"integer\"}\n",
        "add_unbiased = 0 # @param {type:\"integer\"}\n",
        "test_degree = 3 # @param {type:\"integer\"}\n",
        "train_degree = 3 # @param {type:\"integer\"}\n",
        "max_num = 2 # @param {type:\"integer\"}\n",
        "testOrTrain = 1 # @param {type:\"integer\"}\n",
        "times_addition = 0 # @param {type:\"integer\"}\n",
        "alphabetOrSpots = 1 # @param {type:\"integer\"} Alphabets - 1, Spots - 0\n",
        "f1Values = [0]\n",
        "f1MaxValues = [0] "
      ],
      "execution_count": 3,
      "outputs": []
    },
    {
      "cell_type": "markdown",
      "metadata": {
        "id": "J2Y5GE2NIgDN"
      },
      "source": [
        "Image Generation Functions \n",
        "\n",
        "1. basicText - generates a 64, 64 image with the letter and at the locationmentioned as input.\n",
        "2. genAlphabetImage - takes the int value of the character as the input, generates the location of the alphabet on the canvas randomly.\n",
        "3. imageWithDots - generate a 64, 64 image with dots in random locations.\n",
        "4. resizeImageForFour - resizing function used while combining the 4 alphabet images.\n",
        "5. genImage - generate the image based on the letter list given as input."
      ]
    },
    {
      "cell_type": "code",
      "metadata": {
        "id": "ThFzx0B2cPQR"
      },
      "source": [
        "def basicText(text, fontScale, x_direction, y_direction):\n",
        "  image = np.zeros((64,64))\n",
        "  # font \n",
        "  font = cv2.FONT_HERSHEY_SIMPLEX \n",
        "  org = (x_direction,y_direction)  \n",
        "  color = (255, 255)  \n",
        "  thickness = 2\n",
        "  image = cv2.putText(image, text, org, font, fontScale,  \n",
        "                 color, thickness, cv2.LINE_AA, False)\n",
        "  return image "
      ],
      "execution_count": 4,
      "outputs": []
    },
    {
      "cell_type": "code",
      "metadata": {
        "id": "-SkzjPn0y6Mj"
      },
      "source": [
        "def genAlphabetImage(text):\n",
        "  val = chr(text)\n",
        "  x_direction = random.randint(0, 32)\n",
        "  y_direction = random.randint(28,55)\n",
        "  image = basicText(val, 1, x_direction, y_direction)\n",
        "  return image"
      ],
      "execution_count": 5,
      "outputs": []
    },
    {
      "cell_type": "code",
      "metadata": {
        "id": "AVhIyI0vQrI6"
      },
      "source": [
        "def imageWithDots():\n",
        "  image = np.zeros((64,64))\n",
        "  # font \n",
        "  color = (255, 255)  \n",
        "  thickness = 2\n",
        "  text = '.'\n",
        "  font = cv2.FONT_HERSHEY_SIMPLEX \n",
        "  for i in range(15):\n",
        "    x_direction = random.randint(0, 63)\n",
        "    y_direction = random.randint(0, 63)\n",
        "    org = (x_direction,y_direction)  \n",
        "    image = cv2.putText(image, text, org, font, 1,  \n",
        "                  color, thickness, cv2.LINE_AA, False)\n",
        "  return image "
      ],
      "execution_count": 6,
      "outputs": []
    },
    {
      "cell_type": "code",
      "metadata": {
        "id": "MEu3o881rb74"
      },
      "source": [
        "def resizeImageForFour(image, num):\n",
        "  new2 = cv2.resize(image,None,fx=1/num, fy=1/num, interpolation = cv2.INTER_CUBIC)\n",
        "  new2 = new2.reshape(new2.shape[0], new2.shape[1])\n",
        "  return new2"
      ],
      "execution_count": 7,
      "outputs": []
    },
    {
      "cell_type": "code",
      "metadata": {
        "id": "RpS27aaSpp4F"
      },
      "source": [
        "def genImage(letterList, numOfTimes):\n",
        "  finalImage = np.zeros((64,64))\n",
        "  valList = [[0,0],[0,32],[32,0],[32,32]]\n",
        "  label = np.zeros(num_of_letters)\n",
        "  temp = ''\n",
        "  letterList = list(dict.fromkeys(letterList))\n",
        "  random.shuffle(valList)\n",
        "  random.shuffle(letterList)\n",
        "  for j in range(len(letterList)):\n",
        "    if alphabetOrSpots == 1:\n",
        "      img = genAlphabetImage((65 + letterList[j]))\n",
        "    elif alphabetOrSpots == 0:\n",
        "      img = imageWithDots()\n",
        "    label[letterList[j]] = 1\n",
        "    resizeImage = resizeImageForFour(img, 2)\n",
        "    finalImage[valList[j][0]:valList[j][0] + 32,valList[j][1]:valList[j][1] + 32] = resizeImage\n",
        "    temp = temp + chr(65 + letterList[j]) + '_'\n",
        "  temp = '../pics/' + temp + str(numOfTimes)+'_'+str(testOrTrain)+'.jpg'\n",
        "  cv2.imwrite('{}'.format(str(temp)), finalImage)\n",
        "  return finalImage, np.array(label), temp"
      ],
      "execution_count": 8,
      "outputs": []
    },
    {
      "source": [
        "Dataset Generation functions"
      ],
      "cell_type": "markdown",
      "metadata": {}
    },
    {
      "cell_type": "code",
      "metadata": {
        "id": "yDEuMxcygZn6"
      },
      "source": [
        "def imageGenBasedOnMatrix(matrixDegree, arrayVal):\n",
        "  images = []\n",
        "  labels = []\n",
        "  imageNames = []\n",
        "  letterList = []\n",
        "  if matrixDegree == 1:\n",
        "    for i in range(len(arrayVal)):\n",
        "      letterList.clear()\n",
        "      letterList.append(i)\n",
        "      for j in range(int(arrayVal[i])):\n",
        "        image, label, imageName = genImage(letterList, j)\n",
        "        images.append(image)\n",
        "        labels.append(label)\n",
        "        imageNames.append(imageName)\n",
        "  elif matrixDegree == 2:\n",
        "    for i in range(arrayVal.shape[0]):\n",
        "      for j in range(arrayVal.shape[1]):\n",
        "        for k in range(int(arrayVal[i][j])):\n",
        "          letterList = [i, j]\n",
        "          random.shuffle(letterList)\n",
        "          image, label, imageName = genImage(letterList, k)\n",
        "          images.append(image)\n",
        "          labels.append(label)\n",
        "          imageNames.append(imageName)\n",
        "  elif matrixDegree == 3:\n",
        "    for i in range(arrayVal.shape[0]):\n",
        "      for j in range(arrayVal.shape[1]):\n",
        "        for k in range(arrayVal.shape[2]):\n",
        "          for l in range(int(arrayVal[i][j][k])):\n",
        "            letterList = [i,j,k]\n",
        "            random.shuffle(letterList)\n",
        "            image, label, imageName = genImage(letterList, l)\n",
        "            images.append(image)\n",
        "            labels.append(label)\n",
        "            imageNames.append(imageName)\n",
        "  elif matrixDegree == 4:\n",
        "    for i in range(arrayVal.shape[0]):\n",
        "      for j in range(arrayVal.shape[1]):\n",
        "        for k in range(arrayVal.shape[2]):\n",
        "          for m in range(arrayVal.shape[3]):\n",
        "            for l in range(int(arrayVal[i][j][k][m])):\n",
        "              letterList = [i,j,k,m]\n",
        "              random.shuffle(letterList)\n",
        "              image, label, imageName = genImage(letterList, l)\n",
        "              images.append(image)\n",
        "              labels.append(label)\n",
        "              imageNames.append(imageName)\n",
        "  return images, labels, imageNames"
      ],
      "execution_count": 9,
      "outputs": []
    },
    {
      "cell_type": "code",
      "metadata": {
        "id": "Z6ohXBh7Xpeq"
      },
      "source": [
        "def imageGenBasedOnCombinations(comboListVal):\n",
        "  imageList = []\n",
        "  labelList = []\n",
        "  imageNameList = []\n",
        "  for i in range(len(comboListVal)):\n",
        "    letterList = []\n",
        "    for j in range(len(list(comboListVal[i]))):\n",
        "      letterList.append( ord (list(comboListVal[i])[j]) - 65)\n",
        "    image, label, imageName = genImage(letterList, 1)\n",
        "    imageList.append(image)\n",
        "    labelList.append(label)\n",
        "    imageNameList.append(imageName)\n",
        "  return imageList, labelList, imageNameList"
      ],
      "execution_count": 10,
      "outputs": []
    },
    {
      "cell_type": "code",
      "metadata": {
        "id": "TkG1w7GQcYYF"
      },
      "source": [
        "def imageGenBasedOnLabels(array, maxValue, numOfUComb):\n",
        "  imageList = []\n",
        "  labelList = []\n",
        "  imageNameList = []\n",
        "  comboListVal = []\n",
        "  maxVal = np.amax(array)\n",
        "  print(maxVal)\n",
        "  while len(comboListVal) < numOfUComb:\n",
        "    for i in range(num_of_letters):\n",
        "      for j in range(i+1, num_of_letters):\n",
        "        if array[i][j] >= (maxVal - maxValue) and len(comboListVal) < numOfUComb and i != j:\n",
        "          k=random.randint(0, 25)\n",
        "          temp = [i, j, k]\n",
        "          if temp not in comboListVal:\n",
        "            comboListVal.append([i, j, k])\n",
        "        elif len(comboListVal) > numOfUComb:\n",
        "          break\n",
        "  for i in range(len(comboListVal)):\n",
        "    letterList = np.array(comboListVal[i])\n",
        "    image, label, imageName = genImage(letterList, 1)\n",
        "    imageList.append(image)\n",
        "    labelList.append(label)\n",
        "    imageNameList.append(imageName)\n",
        "  return imageList, labelList, imageNameList"
      ],
      "execution_count": 11,
      "outputs": []
    },
    {
      "cell_type": "code",
      "metadata": {
        "id": "DMS9fIbYaRrS"
      },
      "source": [
        "def createOddEven(testImages, testLabels):\n",
        "  trainImages = []\n",
        "  trainLabels = []\n",
        "  for i in range(len(testImages)):\n",
        "    indexes = []\n",
        "    for j in range(len(testLabels[i])):\n",
        "      if testLabels[i][j] == 1:\n",
        "        indexes.append(j)\n",
        "    if (indexes[0]%2 == 0 and indexes[1]%2 == 0 and indexes[2]%2 == 0) or  (indexes[0]%2 != 0 and indexes[1]%2 != 0 and indexes[2]%2 != 0):\n",
        "      trainImages.append(testImages[i])\n",
        "      trainLabels.append(testLabels[i])\n",
        "  return trainImages, trainLabels"
      ],
      "execution_count": 12,
      "outputs": []
    },
    {
      "cell_type": "code",
      "metadata": {
        "id": "gOoJLoENGGMh"
      },
      "source": [
        "def createRatioBased(ratio, testImages, testLabels):\n",
        "  trainImages = []\n",
        "  trainLabels = []\n",
        "  for i in range(len(testImages)):\n",
        "    if i%ratio == 0:\n",
        "      trainImages.append(testImages[i])\n",
        "      trainLabels.append(testLabels[i])\n",
        "  print(len(trainImages))\n",
        "  return trainImages, trainLabels"
      ],
      "execution_count": 13,
      "outputs": []
    },
    {
      "cell_type": "code",
      "metadata": {
        "id": "MzTo08vd530t"
      },
      "source": [
        "def dataSetGen():\n",
        "  global testOrTrain\n",
        "  if test_degree == 1:\n",
        "    testArrayVal = np.array([1]*num_of_letters)\n",
        "  if test_degree == 2:\n",
        "    testArrayVal = np.array([[1]*num_of_letters]*num_of_letters)\n",
        "    for i in range(num_of_letters):\n",
        "      for j in range(num_of_letters):\n",
        "        if i == j:\n",
        "          testArrayVal[i][j] = 0\n",
        "        if i > j:\n",
        "          testArrayVal[i][j] = 0\n",
        "  if test_degree == 3:\n",
        "    testArrayVal = np.array([[[1]*num_of_letters]*num_of_letters]*num_of_letters)\n",
        "    for i in range(num_of_letters):\n",
        "      for j in range(num_of_letters):\n",
        "        for k in range(num_of_letters):\n",
        "          if i == j or j == k or i == k:\n",
        "            testArrayVal[i][j][k] = 0\n",
        "          if i > j or j > k or i > k:\n",
        "            testArrayVal[i][j][k] = 0\n",
        "  imageTesting, testLabels, testImages = imageGenBasedOnMatrix(test_degree, testArrayVal)\n",
        "  TestDataset = create_dataset(testImages, testLabels, False)\n",
        "  return TestDataset, testLabels, testImages"
      ],
      "execution_count": 14,
      "outputs": []
    },
    {
      "source": [
        "Data processing pipeline\n",
        "\n",
        "1. Functions - \n",
        "    - parse_function (takes the input of filename and provides post processed and normalised images)\n",
        "    - create_dataset (used for generating tf dataset for both training and test images)\n",
        "2. Input required is the Image names and the data labels\n",
        "3. TensorFlow Dataset"
      ],
      "cell_type": "markdown",
      "metadata": {}
    },
    {
      "cell_type": "code",
      "metadata": {
        "id": "wzfUUrURJPiC"
      },
      "source": [
        "def parse_function(filename, label):\n",
        "    # Read an image from a file\n",
        "    image_string = tf.io.read_file(filename)\n",
        "    # Decode it into a dense vector\n",
        "    image_decoded = tf.image.decode_jpeg(image_string, channels=1)\n",
        "    # Resize it to fixed shapee \n",
        "    image_resized = tf.image.resize(image_decoded, [32, 32])\n",
        "    # Normalize it from [0, 255] to [0.0, 1.0]\n",
        "    image_normalized = image_resized / 255.0\n",
        "    image_normalized = tf.image.convert_image_dtype(image_normalized, dtype=tf.float32)\n",
        "    return image_normalized, label"
      ],
      "execution_count": 15,
      "outputs": []
    },
    {
      "cell_type": "code",
      "metadata": {
        "id": "HXYHNuvWIyF3"
      },
      "source": [
        "def create_dataset(filenames, labels, is_training=True):    \n",
        "    # Create a first dataset of file paths and labels\n",
        "    dataset = tf.data.Dataset.from_tensor_slices((filenames, labels))\n",
        "    # Parse and preprocess observations in parallel\n",
        "    dataset = dataset.map(parse_function, num_parallel_calls=tf.data.experimental.AUTOTUNE )\n",
        "    dataset = dataset.cache()\n",
        "    if (is_training):\n",
        "      dataset = dataset.shuffle(20000, reshuffle_each_iteration=True)\n",
        "    # Batch the data for multiple steps\n",
        "    dataset = dataset.batch(batch_size)\n",
        "    # Fetch batches in the background while the model is training.\n",
        "    dataset = dataset.prefetch(buffer_size=tf.data.experimental.AUTOTUNE) \n",
        "    return dataset"
      ],
      "execution_count": 16,
      "outputs": []
    },
    {
      "source": [
        "Model used - \n",
        "\n",
        "1. Input shape - (32, 32, 1)\n",
        "2. Activation function used - RELU\n",
        "3. Last layer activation function - Sigmoid"
      ],
      "cell_type": "markdown",
      "metadata": {}
    },
    {
      "cell_type": "code",
      "metadata": {
        "id": "gLapDIz4cSZv"
      },
      "source": [
        "def modelDef():\n",
        "  model = models.Sequential()\n",
        "  model.add(layers.Conv2D(filters=32, kernel_size=(3, 3), activation=\"relu\", input_shape=(32,32,1)))\n",
        "  model.add(layers.MaxPooling2D(pool_size=(2, 2)))\n",
        "  model.add(layers.Conv2D(filters=48, kernel_size=(3, 3), activation='relu'))\n",
        "  model.add(layers.MaxPooling2D(pool_size=(2, 2)))\n",
        "  model.add(layers.Conv2D(filters=64, kernel_size=(3, 3), activation=\"relu\"))\n",
        "  model.add(layers.MaxPooling2D(pool_size=(2, 2)))\n",
        "  model.add(layers.Flatten())\n",
        "  model.add(layers.Dense(64, activation='relu'))\n",
        "  model.add(layers.Dense(num_of_letters, activation='sigmoid'))\n",
        "  model.summary()\n",
        "  return model"
      ],
      "execution_count": 17,
      "outputs": []
    },
    {
      "source": [
        "Extra functions - \n",
        "\n",
        "1. Accuracy calculation functions\n",
        "2. F1 score calculation functions\n",
        "3. Correlationn matrix gen functions\n",
        "4. Distance matrix gen functions"
      ],
      "cell_type": "markdown",
      "metadata": {}
    },
    {
      "cell_type": "code",
      "metadata": {
        "id": "t6k19dH7ujGq"
      },
      "source": [
        "def Sort(sub_li): \n",
        "    l = len(sub_li) \n",
        "    for i in range(0, l): \n",
        "        for j in range(0, l-i-1): \n",
        "            if (sub_li[j][1] > sub_li[j + 1][1]): \n",
        "                tempo = sub_li[j] \n",
        "                sub_li[j]= sub_li[j + 1] \n",
        "                sub_li[j + 1]= tempo \n",
        "    return sub_li "
      ],
      "execution_count": 18,
      "outputs": []
    },
    {
      "cell_type": "code",
      "metadata": {
        "id": "Gp6O7KRGMw3V"
      },
      "source": [
        "def calculate_labels(pred):\n",
        "  predict_labels = []\n",
        "  for i in range(0, len(pred)):\n",
        "    temp = pred[i]\n",
        "    val = 0.5\n",
        "    labels = np.zeros(num_of_letters)\n",
        "    for j in range(0, num_of_letters):\n",
        "      if(temp[j] >= val):\n",
        "        labels[j] = 1\n",
        "    predict_labels.append(labels)\n",
        "  return predict_labels"
      ],
      "execution_count": 19,
      "outputs": []
    },
    {
      "cell_type": "code",
      "metadata": {
        "id": "KVBOq5UPksOJ"
      },
      "source": [
        "def label_to_alphabet(cal):\n",
        "  predictedLabels = []\n",
        "  for i in range(0, len(cal)):\n",
        "    setList = []\n",
        "    for j in range(0, num_of_letters):\n",
        "      if(cal[i][j] == 1):\n",
        "        temp = chr(j + 65)\n",
        "        setList.append(temp)\n",
        "    predictedLabels.append(set(setList))\n",
        "  return predictedLabels"
      ],
      "execution_count": 20,
      "outputs": []
    },
    {
      "cell_type": "code",
      "metadata": {
        "id": "MfzjXauQDRR0"
      },
      "source": [
        "def f1score(y_test, y_predicted, array):\n",
        "  global f1Values\n",
        "  global f1MaxValues\n",
        "  temp_f1 = 0\n",
        "  temp_recall = 0\n",
        "  temp_precision = 0\n",
        "  temp_acc = 0\n",
        "  f1Val = []\n",
        "  distVal = []\n",
        "  for i in range(len(y_test)):\n",
        "    temp_f1 = temp_f1 + f1_score(y_test[i], y_predicted[i])\n",
        "    temp_recall = temp_recall + recall_score(y_test[i], y_predicted[i])\n",
        "    temp_precision = temp_precision + precision_score(y_test[i], y_predicted[i])\n",
        "    temp_acc = temp_acc + accuracy_score(y_test[i], y_predicted[i])\n",
        "    dist_temp = imageValueFunc(array, y_test[i])\n",
        "    dist_temp_max = imageValueMaxFunc(array, y_test[i])\n",
        "    f1Val.append([f1_score(y_test[i], y_predicted[i]), dist_temp])\n",
        "    distVal.append([f1_score(y_test[i], y_predicted[i]), dist_temp_max])\n",
        "  f1score = temp_f1 / len(y_test)\n",
        "  precision = temp_precision / len(y_test)\n",
        "  recall = temp_recall / len(y_test)\n",
        "  acc = temp_acc / len(y_test)\n",
        "  f1Values = f1Val\n",
        "  f1MaxValues = distVal\n",
        "  return acc, f1score, precision, recall"
      ],
      "execution_count": 21,
      "outputs": []
    },
    {
      "cell_type": "code",
      "metadata": {
        "id": "M_4yy6_q37oa"
      },
      "source": [
        "def accuracyCalc(labelVals, predictedLabelVals):\n",
        "  Sum = 0 \n",
        "  accValList = []\n",
        "  labelsList = []\n",
        "  for i in range(0, len(labelVals)):\n",
        "    currentLabelValue = labelVals[i]\n",
        "    currentPredLabelValue = predictedLabelVals[i]\n",
        "    setIntersection = currentPredLabelValue.intersection(currentLabelValue)\n",
        "    x = float(len(setIntersection)/len(currentLabelValue))\n",
        "    #print(len(currentPredLabelValue), len(currentLabelValue))\n",
        "    if len(currentLabelValue) == len(currentPredLabelValue) and x == 1:\n",
        "      labelsList.append(currentLabelValue)\n",
        "      accValList.append(1)\n",
        "      Sum = Sum + x\n",
        "    else:\n",
        "      labelsList.append(currentLabelValue)\n",
        "      accValList.append(0)\n",
        "  Accuracy = Sum / len(labelVals)\n",
        "  return Accuracy, labelsList, accValList"
      ],
      "execution_count": 22,
      "outputs": []
    },
    {
      "cell_type": "code",
      "metadata": {
        "id": "o1tuvY9tk3xh"
      },
      "source": [
        "def accuracyFunc(y_pred, y_test, array):\n",
        "  y_predicted = calculate_labels(y_pred)\n",
        "  accuracy, f1_score, precision, recall  = f1score(y_test, y_predicted, array)\n",
        "  y_predicted = label_to_alphabet(y_predicted)\n",
        "  y_tested = label_to_alphabet(y_test)\n",
        "  count, labelList, accValList = accuracyCalc(y_tested, y_predicted)\n",
        "  print(round(count, 3), round(accuracy, 3), round(f1_score, 3), round(precision, 3), round(recall,3))\n",
        "  return round(f1_score, 3), labelList, accValList"
      ],
      "execution_count": 23,
      "outputs": []
    },
    {
      "cell_type": "code",
      "metadata": {
        "id": "99NqoXQzH1yD"
      },
      "source": [
        "def sumOfListVals(matrixDegree, arrayValue):\n",
        "  sumVal = 0\n",
        "  if matrixDegree == 1:\n",
        "    for i in range(arrayValue.shape[0]):\n",
        "      sumVal = sumVal + arrayValue[i]\n",
        "  elif matrixDegree == 2:\n",
        "    for i in range(arrayValue.shape[0]):\n",
        "      for j in range(arrayValue.shape[1]):\n",
        "        sumVal = sumVal + arrayValue[i][j]\n",
        "  elif matrixDegree == 3:\n",
        "    for i in range(arrayValue.shape[0]):\n",
        "      for j in range(arrayValue.shape[1]):\n",
        "        for k in range(arrayValue.shape[2]):\n",
        "          sumVal = sumVal + arrayValue[i][j][k]\n",
        "  return sumVal"
      ],
      "execution_count": 24,
      "outputs": []
    },
    {
      "cell_type": "code",
      "metadata": {
        "id": "X46kUncXHmbY"
      },
      "source": [
        "def probabilityGenMatrix(matrixDegree, arrayValue):\n",
        "  probability = []\n",
        "  combo = [] \n",
        "  sumVal = sumOfListVals(matrixDegree, arrayValue)\n",
        "  if matrixDegree == 1:\n",
        "    for i in range(num_of_letters):\n",
        "      temp = arrayValue[i]/(sumVal)\n",
        "      probability.append(temp)\n",
        "      combo.append([chr(65+i)])\n",
        "  elif matrixDegree == 2:\n",
        "    for i in range(num_of_letters):\n",
        "      for j in range(num_of_letters):\n",
        "        temp = arrayValue[i][j]/(sumVal)\n",
        "        if(i != j):\n",
        "          probability.append(temp)\n",
        "          combo.append([chr(65+i), chr(65+j)])\n",
        "  elif matrixDegree == 3:\n",
        "    for i in range(arrayValue.shape[0]):\n",
        "      for j in range(arrayValue.shape[1]):\n",
        "        for k in range(arrayValue.shape[2]):\n",
        "          temp = arrayValue[i][j][k]/(sumVal)\n",
        "          if not (i == j or j == k or i == k):\n",
        "            probability.append(temp)\n",
        "            combo.append([chr(65+i), chr(65+j), chr(65+k)])\n",
        "  return probability, combo"
      ],
      "execution_count": 25,
      "outputs": []
    },
    {
      "cell_type": "code",
      "metadata": {
        "id": "8lFDpRqcuqG6"
      },
      "source": [
        "def createComboList(listValues, probability):\n",
        "  comboListVal = []\n",
        "  listVal = Sort(listValues)\n",
        "  for i in range(len(listVal)):\n",
        "    if (listVal[i][1] <= probability):\n",
        "      comboListVal.append(listVal[i][2])\n",
        "  return comboListVal"
      ],
      "execution_count": 26,
      "outputs": []
    },
    {
      "cell_type": "code",
      "metadata": {
        "id": "aI4BXZlEJAeU"
      },
      "source": [
        "def probabilityListAndCorrectness(arrayValue, TestDataset, testLabels):\n",
        "  probabilityList, comboList = probabilityGenMatrix(test_degree, arrayValue)\n",
        "  ypred = model.predict(TestDataset)\n",
        "  acc , combList, correctness = accuracyFunc(ypred, testLabels)\n",
        "  combinedList = []\n",
        "  print(arrayValue.shape)\n",
        "  for i in range(len(probabilityList)):\n",
        "    #print(combList[i], comboList[i])\n",
        "    correctVal = correctness[combList.index(set(comboList[i]))]\n",
        "    combinedList.append([correctVal, probabilityList[i], comboList[i]])\n",
        "  return acc, probabilityList, correctness, combinedList, combList"
      ],
      "execution_count": 27,
      "outputs": []
    },
    {
      "cell_type": "code",
      "metadata": {
        "id": "cnMiT6M5G9-P"
      },
      "source": [
        "def numOfDataInc(trainImages, trainLabels, totalLength):\n",
        "  global testOrTrain\n",
        "  trainLabelsNoice = trainLabels\n",
        "  combinationList = label_to_alphabet(trainLabelsNoice)\n",
        "  numOfVals = int(totalLength/len(trainLabels)) + 1\n",
        "  for i in range(numOfVals):\n",
        "    testOrTrain = i + 2\n",
        "    _, trainLabelsComb, trainImagesComb = imageGenBasedOnCombinations(combinationList)\n",
        "    for j in range(len(trainLabelsComb)):\n",
        "      if len(trainImages) == totalLength:\n",
        "        break\n",
        "      trainImages.append(trainImagesComb[j])\n",
        "      trainLabels.append(trainLabelsComb[j])\n",
        "  return trainImages, trainLabels"
      ],
      "execution_count": 41,
      "outputs": []
    },
    {
      "cell_type": "code",
      "metadata": {
        "id": "l-gRStGgUvSF"
      },
      "source": [
        "def correlationMatrix(trainLabels):\n",
        "  if test_degree == 2:\n",
        "    w = np.vstack(trainLabels)\n",
        "    arr = np.zeros([num_of_letters,num_of_letters])\n",
        "    for i in range(0, w.shape[0]):\n",
        "      for j in range(0, w.shape[1]):\n",
        "        if(w[i][j] == 1):\n",
        "          for k in range(j+1, w.shape[1]):\n",
        "            if(w[i][k] == 1):\n",
        "              arr[j][k] += 1\n",
        "              arr[k][j] += 1\n",
        "  elif test_degree == 1:\n",
        "    arr = np.zeros((num_of_letters))\n",
        "    for i in range(len(trainLabels)):\n",
        "      for j in range(len(trainLabels[i])):\n",
        "        if trainLabels[i][j] == 1:\n",
        "          arr[j] = arr[j] + 1\n",
        "  elif test_degree == 3:\n",
        "    w = np.vstack(trainLabels)\n",
        "    arr = np.zeros([num_of_letters,num_of_letters,num_of_letters])\n",
        "    for i in range(0, w.shape[0]):\n",
        "      for j in range(0, w.shape[1]):\n",
        "        if(w[i][j] == 1):\n",
        "          for k in range(j+1, w.shape[1]):\n",
        "            if(w[i][k] == 1):\n",
        "              for l in range(k+1, w.shape[1]):\n",
        "                if(w[i][l] == 1):\n",
        "                  arr[j][k][l] += 1\n",
        "                  arr[k][j][l] += 1\n",
        "                  arr[j][l][k] += 1\n",
        "                  arr[k][l][j] += 1\n",
        "                  arr[l][k][j] += 1\n",
        "                  arr[l][j][k] += 1\n",
        "  return arr"
      ],
      "execution_count": 29,
      "outputs": []
    },
    {
      "cell_type": "code",
      "metadata": {
        "id": "TqrQLToq_CNZ"
      },
      "source": [
        "def correlationmt(labels):\n",
        "  arr = np.zeros([num_of_letters,num_of_letters])\n",
        "  for i in range(len(labels)):\n",
        "    for j in range(num_of_letters):\n",
        "      if labels[i][j] == 1:\n",
        "        for k in range(j+1, num_of_letters):\n",
        "          if labels[i][k] == 1:\n",
        "            arr[j][k] = 1\n",
        "            arr[k][j] = 1\n",
        "  return arr"
      ],
      "execution_count": 30,
      "outputs": []
    },
    {
      "cell_type": "code",
      "metadata": {
        "id": "fS_mlcYUAjiZ"
      },
      "source": [
        "def calculateDist(corr):\n",
        "  dist = np.zeros([num_of_letters,num_of_letters])\n",
        "  for i in range(num_of_letters):\n",
        "    for j in range(num_of_letters):\n",
        "      if i != j:\n",
        "        if corr[i][j] == 1 and dist[i][j] == 0:\n",
        "          dist[i][j] = 1\n",
        "          dist[j][i] = 1\n",
        "        elif dist[i][j] == 0:\n",
        "          for k in range(num_of_letters):\n",
        "            if corr[k][j] == 1 and k != j and k != i:\n",
        "              #print(\"i:\", i, \"j:\", j, \"k:\", k)\n",
        "              if corr[i][k] == 1:\n",
        "                temp1 = 2\n",
        "                if temp1 < dist[i][j] or dist[i][j] == 0:\n",
        "                  dist[i][j] = int(temp1)\n",
        "                  dist[j][i] = int(temp1)\n",
        "              elif dist[i][k] != 0:\n",
        "                temp = dist[i][k] + 1\n",
        "                if temp < dist[i][j] or dist[i][j] == 0:\n",
        "                  dist[i][j] = int(temp)\n",
        "                  dist[j][i] = int(temp)\n",
        "              #print(dist[i][j])\n",
        "  maxVal = np.amax(dist)\n",
        "  for i in range(num_of_letters):\n",
        "    for j in range(num_of_letters):\n",
        "      if dist[i][j] == 0 and i !=j :\n",
        "        dist[i][j] = maxVal + 1\n",
        "      elif i == j:\n",
        "        dist[i][j] = 0 \n",
        "  return dist"
      ],
      "execution_count": 31,
      "outputs": []
    },
    {
      "cell_type": "code",
      "metadata": {
        "id": "9L8qxIi0r6pn"
      },
      "source": [
        "def imageValueMaxFunc(array, label):\n",
        "  dist = 0\n",
        "  for i in range(len(label)):\n",
        "    if label[i] == 1:\n",
        "      for j in range(i+1, len(label)):\n",
        "        if label[j] == 1:\n",
        "          if array[i][j] == 0:\n",
        "            if dist < 10:\n",
        "              dist = 10\n",
        "          else:\n",
        "            if dist < array[i][j]:\n",
        "              dist = array[i][j]\n",
        "  return int(dist)"
      ],
      "execution_count": 32,
      "outputs": []
    },
    {
      "cell_type": "code",
      "metadata": {
        "id": "QkoffGFHwFP2"
      },
      "source": [
        "def imageValueFunc(array, label):\n",
        "  dist = 0\n",
        "  for i in range(len(label)):\n",
        "    if label[i] == 1:\n",
        "      for j in range(i+1, len(label)):\n",
        "        if label[j] == 1:\n",
        "          if array[i][j] == 0:\n",
        "            dist = dist + 10\n",
        "          else:\n",
        "            dist = dist + array[i][j]\n",
        "  dist = dist / 3 \n",
        "  return dist"
      ],
      "execution_count": 33,
      "outputs": []
    },
    {
      "cell_type": "code",
      "metadata": {
        "id": "BgvaJDfg7kRe"
      },
      "source": [
        "def convertLabelsToSingleAlphabet(alphabet, trainImages, trainLabels):\n",
        "  trainLabelsNew = np.zeros((len(trainImages)))\n",
        "  count = 0 \n",
        "  for i in range(len(trainImages)):\n",
        "    if trainLabels[i][alphabet] == 1:\n",
        "      trainLabelsNew[i] = 1\n",
        "      count = count + 1\n",
        "  return trainImages, trainLabelsNew, count"
      ],
      "execution_count": 34,
      "outputs": []
    },
    {
      "cell_type": "code",
      "metadata": {
        "id": "ryQruWs_UqKX"
      },
      "source": [
        "def pickRandom(trainImages, trainLabels, numOfComb):\n",
        "  trainImagesNew = []\n",
        "  trainLabelsNew = []\n",
        "  for i in range(numOfComb):\n",
        "    temp = random.randint(0, 2599)\n",
        "    if trainImages[temp] not in trainImagesNew:\n",
        "      trainImagesNew.append(trainImages[temp])\n",
        "      trainLabelsNew.append(trainLabels[temp])\n",
        "  return _, trainLabelsNew, trainImagesNew"
      ],
      "execution_count": 35,
      "outputs": []
    },
    {
      "cell_type": "code",
      "metadata": {
        "id": "IxfyNCMWK8fR",
        "colab": {
          "base_uri": "https://localhost:8080/"
        },
        "outputId": "8fdcd605-3061-4b3a-d712-9ebcc003fa29"
      },
      "source": [
        "random.seed(10)\n",
        "test_degree=3\n",
        "alphabetOrSpots = 1\n",
        "testOrTrain = 0\n",
        "num_of_letters = 26\n",
        "_, testLabelsVal, testImagesVal = dataSetGen()"
      ],
      "execution_count": 36,
      "outputs": []
    },
    {
      "cell_type": "code",
      "metadata": {
        "id": "MKPicQr2f1a8"
      },
      "source": [
        "random.seed(100)\n",
        "test_degree=3\n",
        "alphabetOrSpots = 1\n",
        "testOrTrain = 1\n",
        "num_of_letters = 26\n",
        "_, trainLabelsVal, trainImagesVal = dataSetGen()"
      ],
      "execution_count": 37,
      "outputs": []
    },
    {
      "cell_type": "code",
      "metadata": {
        "id": "JEnIdJP_HTfG",
        "colab": {
          "background_save": true,
          "base_uri": "https://localhost:8080/"
        },
        "outputId": "ef8e8298-808b-4a8c-9a09-c008e3486910",
        "tags": []
      },
      "source": [
        "random.seed(1000)\n",
        "biased_ratio = 64\n",
        "num_of_letters = 26\n",
        "num_of_train_images = 5000\n",
        "\n",
        "trainImagesComb, trainLabelsComb = createRatioBased(biased_ratio, trainImagesVal, trainLabelsVal)\n",
        "trainImages, trainLabels = numOfDataInc(trainImagesComb, trainLabelsComb, num_of_train_images)\n",
        "TrainDataset = create_dataset(trainImages, trainLabels)\n",
        "TestDataset = create_dataset(testImagesVal, testLabelsVal, False)\n",
        "\n",
        "model = modelDef()\n",
        "callback = tf.keras.callbacks.EarlyStopping(monitor='val_loss', patience=30, min_delta=0.0002, restore_best_weights=True)\n",
        "opt = tf.keras.optimizers.Adam(learning_rate=0.0001)\n",
        "model.compile(optimizer=opt, loss=tf.keras.losses.BinaryCrossentropy(), metrics=['accuracy'])\n",
        "history = model.fit(TrainDataset, epochs=400, validation_data=TestDataset, callbacks=[callback], batch_size = batch_size)\n",
        "\n",
        "ypred = model.predict(TestDataset)\n",
        "acc , combList, correctness = accuracyFunc(ypred, testLabelsVal, array)\n",
        "\n",
        "arrayVal = correlationmt(trainLabelsComb)\n",
        "array = calculateDist(arrayVal)"
      ],
      "execution_count": 47,
      "outputs": [
        {
          "output_type": "stream",
          "name": "stdout",
          "text": [
            "41\n",
            "Model: \"sequential_4\"\n",
            "_________________________________________________________________\n",
            "Layer (type)                 Output Shape              Param #   \n",
            "=================================================================\n",
            "conv2d_12 (Conv2D)           (None, 30, 30, 32)        320       \n",
            "_________________________________________________________________\n",
            "max_pooling2d_12 (MaxPooling (None, 15, 15, 32)        0         \n",
            "_________________________________________________________________\n",
            "conv2d_13 (Conv2D)           (None, 13, 13, 48)        13872     \n",
            "_________________________________________________________________\n",
            "max_pooling2d_13 (MaxPooling (None, 6, 6, 48)          0         \n",
            "_________________________________________________________________\n",
            "conv2d_14 (Conv2D)           (None, 4, 4, 64)          27712     \n",
            "_________________________________________________________________\n",
            "max_pooling2d_14 (MaxPooling (None, 2, 2, 64)          0         \n",
            "_________________________________________________________________\n",
            "flatten_4 (Flatten)          (None, 256)               0         \n",
            "_________________________________________________________________\n",
            "dense_8 (Dense)              (None, 64)                16448     \n",
            "_________________________________________________________________\n",
            "dense_9 (Dense)              (None, 26)                1690      \n",
            "=================================================================\n",
            "Total params: 60,042\n",
            "Trainable params: 60,042\n",
            "Non-trainable params: 0\n",
            "_________________________________________________________________\n",
            "Epoch 1/400\n",
            "79/79 [==============================] - 3s 27ms/step - loss: 0.6585 - accuracy: 0.0480 - val_loss: 0.4424 - val_accuracy: 0.0350\n",
            "Epoch 2/400\n",
            "79/79 [==============================] - 2s 26ms/step - loss: 0.3949 - accuracy: 0.0396 - val_loss: 0.3746 - val_accuracy: 0.0423\n",
            "Epoch 3/400\n",
            "79/79 [==============================] - 2s 26ms/step - loss: 0.3577 - accuracy: 0.0383 - val_loss: 0.3711 - val_accuracy: 0.0192\n",
            "Epoch 4/400\n",
            "79/79 [==============================] - 2s 26ms/step - loss: 0.3536 - accuracy: 0.0199 - val_loss: 0.3703 - val_accuracy: 0.0188\n",
            "Epoch 5/400\n",
            "79/79 [==============================] - 2s 27ms/step - loss: 0.3521 - accuracy: 0.0129 - val_loss: 0.3693 - val_accuracy: 0.0154\n",
            "Epoch 6/400\n",
            "79/79 [==============================] - 2s 27ms/step - loss: 0.3513 - accuracy: 0.0169 - val_loss: 0.3688 - val_accuracy: 0.0138\n",
            "Epoch 7/400\n",
            "79/79 [==============================] - 2s 26ms/step - loss: 0.3510 - accuracy: 0.0091 - val_loss: 0.3691 - val_accuracy: 0.0173\n",
            "Epoch 8/400\n",
            "79/79 [==============================] - 2s 26ms/step - loss: 0.3504 - accuracy: 0.0142 - val_loss: 0.3683 - val_accuracy: 0.0200\n",
            "Epoch 9/400\n",
            "79/79 [==============================] - 2s 27ms/step - loss: 0.3505 - accuracy: 0.0126 - val_loss: 0.3682 - val_accuracy: 0.0173\n",
            "Epoch 10/400\n",
            "79/79 [==============================] - 2s 26ms/step - loss: 0.3503 - accuracy: 0.0180 - val_loss: 0.3681 - val_accuracy: 0.0212\n",
            "Epoch 11/400\n",
            "79/79 [==============================] - 2s 26ms/step - loss: 0.3493 - accuracy: 0.0182 - val_loss: 0.3678 - val_accuracy: 0.0115\n",
            "Epoch 12/400\n",
            "79/79 [==============================] - 2s 26ms/step - loss: 0.3496 - accuracy: 0.0095 - val_loss: 0.3678 - val_accuracy: 0.0212\n",
            "Epoch 13/400\n",
            "79/79 [==============================] - 2s 26ms/step - loss: 0.3495 - accuracy: 0.0233 - val_loss: 0.3677 - val_accuracy: 0.0115\n",
            "Epoch 14/400\n",
            "79/79 [==============================] - 2s 27ms/step - loss: 0.3485 - accuracy: 0.0020 - val_loss: 0.3676 - val_accuracy: 0.0308\n",
            "Epoch 15/400\n",
            "79/79 [==============================] - 2s 27ms/step - loss: 0.3494 - accuracy: 0.0205 - val_loss: 0.3675 - val_accuracy: 0.0188\n",
            "Epoch 16/400\n",
            "79/79 [==============================] - 2s 27ms/step - loss: 0.3483 - accuracy: 0.0155 - val_loss: 0.3672 - val_accuracy: 0.0192\n",
            "Epoch 17/400\n",
            "79/79 [==============================] - 2s 26ms/step - loss: 0.3483 - accuracy: 0.0178 - val_loss: 0.3672 - val_accuracy: 0.0169\n",
            "Epoch 18/400\n",
            "79/79 [==============================] - 2s 26ms/step - loss: 0.3482 - accuracy: 0.0199 - val_loss: 0.3664 - val_accuracy: 0.0123\n",
            "Epoch 19/400\n",
            "79/79 [==============================] - 2s 27ms/step - loss: 0.3484 - accuracy: 0.0124 - val_loss: 0.3667 - val_accuracy: 0.0235\n",
            "Epoch 20/400\n",
            "79/79 [==============================] - 2s 26ms/step - loss: 0.3475 - accuracy: 0.0220 - val_loss: 0.3670 - val_accuracy: 0.0235\n",
            "Epoch 21/400\n",
            "79/79 [==============================] - 2s 26ms/step - loss: 0.3471 - accuracy: 0.0174 - val_loss: 0.3662 - val_accuracy: 0.0269\n",
            "Epoch 22/400\n",
            "79/79 [==============================] - 2s 25ms/step - loss: 0.3462 - accuracy: 0.0237 - val_loss: 0.3660 - val_accuracy: 0.0250\n",
            "Epoch 23/400\n",
            "79/79 [==============================] - 2s 25ms/step - loss: 0.3454 - accuracy: 0.0221 - val_loss: 0.3661 - val_accuracy: 0.0254\n",
            "Epoch 24/400\n",
            "79/79 [==============================] - 2s 25ms/step - loss: 0.3462 - accuracy: 0.0186 - val_loss: 0.3656 - val_accuracy: 0.0235\n",
            "Epoch 25/400\n",
            "79/79 [==============================] - 2s 26ms/step - loss: 0.3451 - accuracy: 0.0282 - val_loss: 0.3650 - val_accuracy: 0.0250\n",
            "Epoch 26/400\n",
            "79/79 [==============================] - 2s 28ms/step - loss: 0.3444 - accuracy: 0.0359 - val_loss: 0.3648 - val_accuracy: 0.0269\n",
            "Epoch 27/400\n",
            "79/79 [==============================] - 2s 26ms/step - loss: 0.3436 - accuracy: 0.0274 - val_loss: 0.3645 - val_accuracy: 0.0385\n",
            "Epoch 28/400\n",
            "79/79 [==============================] - 2s 26ms/step - loss: 0.3417 - accuracy: 0.0441 - val_loss: 0.3640 - val_accuracy: 0.0331\n",
            "Epoch 29/400\n",
            "79/79 [==============================] - 2s 25ms/step - loss: 0.3402 - accuracy: 0.0305 - val_loss: 0.3620 - val_accuracy: 0.0327\n",
            "Epoch 30/400\n",
            "79/79 [==============================] - 2s 26ms/step - loss: 0.3387 - accuracy: 0.0435 - val_loss: 0.3624 - val_accuracy: 0.0408\n",
            "Epoch 31/400\n",
            "79/79 [==============================] - 2s 26ms/step - loss: 0.3365 - accuracy: 0.0494 - val_loss: 0.3603 - val_accuracy: 0.0462\n",
            "Epoch 32/400\n",
            "79/79 [==============================] - 2s 26ms/step - loss: 0.3339 - accuracy: 0.0439 - val_loss: 0.3591 - val_accuracy: 0.0365\n",
            "Epoch 33/400\n",
            "79/79 [==============================] - 2s 27ms/step - loss: 0.3312 - accuracy: 0.0525 - val_loss: 0.3575 - val_accuracy: 0.0577\n",
            "Epoch 34/400\n",
            "79/79 [==============================] - 2s 27ms/step - loss: 0.3282 - accuracy: 0.0714 - val_loss: 0.3561 - val_accuracy: 0.0554\n",
            "Epoch 35/400\n",
            "79/79 [==============================] - 2s 27ms/step - loss: 0.3249 - accuracy: 0.0610 - val_loss: 0.3550 - val_accuracy: 0.0585\n",
            "Epoch 36/400\n",
            "79/79 [==============================] - 2s 27ms/step - loss: 0.3211 - accuracy: 0.0782 - val_loss: 0.3534 - val_accuracy: 0.0523\n",
            "Epoch 37/400\n",
            "79/79 [==============================] - 2s 26ms/step - loss: 0.3181 - accuracy: 0.0665 - val_loss: 0.3526 - val_accuracy: 0.0600\n",
            "Epoch 38/400\n",
            "79/79 [==============================] - 2s 24ms/step - loss: 0.3132 - accuracy: 0.0743 - val_loss: 0.3506 - val_accuracy: 0.0719\n",
            "Epoch 39/400\n",
            "79/79 [==============================] - 2s 26ms/step - loss: 0.3094 - accuracy: 0.0972 - val_loss: 0.3503 - val_accuracy: 0.0631\n",
            "Epoch 40/400\n",
            "79/79 [==============================] - 2s 26ms/step - loss: 0.3062 - accuracy: 0.1081 - val_loss: 0.3492 - val_accuracy: 0.0627\n",
            "Epoch 41/400\n",
            "79/79 [==============================] - 2s 27ms/step - loss: 0.3034 - accuracy: 0.1035 - val_loss: 0.3515 - val_accuracy: 0.0635\n",
            "Epoch 42/400\n",
            "79/79 [==============================] - 2s 26ms/step - loss: 0.3007 - accuracy: 0.1023 - val_loss: 0.3476 - val_accuracy: 0.0650\n",
            "Epoch 43/400\n",
            "79/79 [==============================] - 2s 26ms/step - loss: 0.2975 - accuracy: 0.0905 - val_loss: 0.3482 - val_accuracy: 0.0831\n",
            "Epoch 44/400\n",
            "79/79 [==============================] - 2s 27ms/step - loss: 0.2937 - accuracy: 0.1267 - val_loss: 0.3464 - val_accuracy: 0.0642\n",
            "Epoch 45/400\n",
            "79/79 [==============================] - 2s 27ms/step - loss: 0.2918 - accuracy: 0.1047 - val_loss: 0.3458 - val_accuracy: 0.0750\n",
            "Epoch 46/400\n",
            "79/79 [==============================] - 2s 27ms/step - loss: 0.2891 - accuracy: 0.1102 - val_loss: 0.3449 - val_accuracy: 0.0719\n",
            "Epoch 47/400\n",
            "79/79 [==============================] - 2s 26ms/step - loss: 0.2871 - accuracy: 0.1210 - val_loss: 0.3444 - val_accuracy: 0.0712\n",
            "Epoch 48/400\n",
            "79/79 [==============================] - 2s 25ms/step - loss: 0.2850 - accuracy: 0.1244 - val_loss: 0.3438 - val_accuracy: 0.0700\n",
            "Epoch 49/400\n",
            "79/79 [==============================] - 2s 25ms/step - loss: 0.2832 - accuracy: 0.1177 - val_loss: 0.3443 - val_accuracy: 0.0923\n",
            "Epoch 50/400\n",
            "79/79 [==============================] - 2s 25ms/step - loss: 0.2819 - accuracy: 0.1283 - val_loss: 0.3453 - val_accuracy: 0.0769\n",
            "Epoch 51/400\n",
            "79/79 [==============================] - 2s 25ms/step - loss: 0.2798 - accuracy: 0.1217 - val_loss: 0.3424 - val_accuracy: 0.0708\n",
            "Epoch 52/400\n",
            "79/79 [==============================] - 2s 25ms/step - loss: 0.2789 - accuracy: 0.1215 - val_loss: 0.3423 - val_accuracy: 0.0904\n",
            "Epoch 53/400\n",
            "79/79 [==============================] - 2s 25ms/step - loss: 0.2766 - accuracy: 0.1276 - val_loss: 0.3430 - val_accuracy: 0.0885\n",
            "Epoch 54/400\n",
            "79/79 [==============================] - 2s 25ms/step - loss: 0.2749 - accuracy: 0.1419 - val_loss: 0.3410 - val_accuracy: 0.0877\n",
            "Epoch 55/400\n",
            "79/79 [==============================] - 2s 25ms/step - loss: 0.2740 - accuracy: 0.1342 - val_loss: 0.3412 - val_accuracy: 0.0896\n",
            "Epoch 56/400\n",
            "79/79 [==============================] - 2s 25ms/step - loss: 0.2739 - accuracy: 0.1599 - val_loss: 0.3407 - val_accuracy: 0.0785\n",
            "Epoch 57/400\n",
            "79/79 [==============================] - 2s 26ms/step - loss: 0.2725 - accuracy: 0.1509 - val_loss: 0.3409 - val_accuracy: 0.0812\n",
            "Epoch 58/400\n",
            "79/79 [==============================] - 2s 25ms/step - loss: 0.2702 - accuracy: 0.1496 - val_loss: 0.3415 - val_accuracy: 0.0746\n",
            "Epoch 59/400\n",
            "79/79 [==============================] - 2s 25ms/step - loss: 0.2680 - accuracy: 0.1425 - val_loss: 0.3401 - val_accuracy: 0.0838\n",
            "Epoch 60/400\n",
            "79/79 [==============================] - 2s 25ms/step - loss: 0.2675 - accuracy: 0.1654 - val_loss: 0.3411 - val_accuracy: 0.0938\n",
            "Epoch 61/400\n",
            "79/79 [==============================] - 2s 25ms/step - loss: 0.2658 - accuracy: 0.1585 - val_loss: 0.3380 - val_accuracy: 0.1004\n",
            "Epoch 62/400\n",
            "79/79 [==============================] - 2s 25ms/step - loss: 0.2652 - accuracy: 0.1592 - val_loss: 0.3396 - val_accuracy: 0.0962\n",
            "Epoch 63/400\n",
            "79/79 [==============================] - 2s 25ms/step - loss: 0.2638 - accuracy: 0.1694 - val_loss: 0.3387 - val_accuracy: 0.0988\n",
            "Epoch 64/400\n",
            "79/79 [==============================] - 2s 25ms/step - loss: 0.2621 - accuracy: 0.1751 - val_loss: 0.3393 - val_accuracy: 0.0981\n",
            "Epoch 65/400\n",
            "79/79 [==============================] - 2s 25ms/step - loss: 0.2608 - accuracy: 0.1575 - val_loss: 0.3378 - val_accuracy: 0.0962\n",
            "Epoch 66/400\n",
            "79/79 [==============================] - 2s 25ms/step - loss: 0.2590 - accuracy: 0.1606 - val_loss: 0.3385 - val_accuracy: 0.1008\n",
            "Epoch 67/400\n",
            "79/79 [==============================] - 2s 25ms/step - loss: 0.2579 - accuracy: 0.1809 - val_loss: 0.3353 - val_accuracy: 0.1088\n",
            "Epoch 68/400\n",
            "79/79 [==============================] - 2s 25ms/step - loss: 0.2586 - accuracy: 0.1822 - val_loss: 0.3385 - val_accuracy: 0.0923\n",
            "Epoch 69/400\n",
            "79/79 [==============================] - 2s 25ms/step - loss: 0.2568 - accuracy: 0.1656 - val_loss: 0.3393 - val_accuracy: 0.1096\n",
            "Epoch 70/400\n",
            "79/79 [==============================] - 2s 25ms/step - loss: 0.2551 - accuracy: 0.1903 - val_loss: 0.3365 - val_accuracy: 0.1004\n",
            "Epoch 71/400\n",
            "79/79 [==============================] - 2s 25ms/step - loss: 0.2538 - accuracy: 0.1909 - val_loss: 0.3390 - val_accuracy: 0.1019\n",
            "Epoch 72/400\n",
            "79/79 [==============================] - 2s 25ms/step - loss: 0.2504 - accuracy: 0.1732 - val_loss: 0.3358 - val_accuracy: 0.1050\n",
            "Epoch 73/400\n",
            "79/79 [==============================] - 2s 25ms/step - loss: 0.2521 - accuracy: 0.1824 - val_loss: 0.3363 - val_accuracy: 0.1023\n",
            "Epoch 74/400\n",
            "79/79 [==============================] - 2s 25ms/step - loss: 0.2489 - accuracy: 0.1918 - val_loss: 0.3362 - val_accuracy: 0.1046\n",
            "Epoch 75/400\n",
            "79/79 [==============================] - 2s 25ms/step - loss: 0.2481 - accuracy: 0.2033 - val_loss: 0.3371 - val_accuracy: 0.1046\n",
            "Epoch 76/400\n",
            "79/79 [==============================] - 2s 25ms/step - loss: 0.2460 - accuracy: 0.1874 - val_loss: 0.3357 - val_accuracy: 0.1204\n",
            "Epoch 77/400\n",
            "79/79 [==============================] - 2s 25ms/step - loss: 0.2453 - accuracy: 0.1985 - val_loss: 0.3378 - val_accuracy: 0.1104\n",
            "Epoch 78/400\n",
            "79/79 [==============================] - 2s 25ms/step - loss: 0.2442 - accuracy: 0.1915 - val_loss: 0.3381 - val_accuracy: 0.1046\n",
            "Epoch 79/400\n",
            "79/79 [==============================] - 2s 25ms/step - loss: 0.2419 - accuracy: 0.2192 - val_loss: 0.3345 - val_accuracy: 0.1069\n",
            "Epoch 80/400\n",
            "79/79 [==============================] - 2s 25ms/step - loss: 0.2432 - accuracy: 0.1865 - val_loss: 0.3347 - val_accuracy: 0.1127\n",
            "Epoch 81/400\n",
            "79/79 [==============================] - 2s 25ms/step - loss: 0.2398 - accuracy: 0.2011 - val_loss: 0.3352 - val_accuracy: 0.1038\n",
            "Epoch 82/400\n",
            "79/79 [==============================] - 2s 25ms/step - loss: 0.2402 - accuracy: 0.2126 - val_loss: 0.3368 - val_accuracy: 0.1065\n",
            "Epoch 83/400\n",
            "79/79 [==============================] - 2s 26ms/step - loss: 0.2382 - accuracy: 0.1999 - val_loss: 0.3360 - val_accuracy: 0.0985\n",
            "Epoch 84/400\n",
            "79/79 [==============================] - 2s 25ms/step - loss: 0.2355 - accuracy: 0.1907 - val_loss: 0.3333 - val_accuracy: 0.1073\n",
            "Epoch 85/400\n",
            "79/79 [==============================] - 2s 25ms/step - loss: 0.2348 - accuracy: 0.2149 - val_loss: 0.3370 - val_accuracy: 0.1100\n",
            "Epoch 86/400\n",
            "79/79 [==============================] - 2s 25ms/step - loss: 0.2328 - accuracy: 0.2302 - val_loss: 0.3373 - val_accuracy: 0.1181\n",
            "Epoch 87/400\n",
            "79/79 [==============================] - 2s 25ms/step - loss: 0.2337 - accuracy: 0.2241 - val_loss: 0.3357 - val_accuracy: 0.1085\n",
            "Epoch 88/400\n",
            "79/79 [==============================] - 2s 26ms/step - loss: 0.2308 - accuracy: 0.2248 - val_loss: 0.3348 - val_accuracy: 0.1100\n",
            "Epoch 89/400\n",
            "79/79 [==============================] - 2s 25ms/step - loss: 0.2307 - accuracy: 0.2109 - val_loss: 0.3346 - val_accuracy: 0.1146\n",
            "Epoch 90/400\n",
            "79/79 [==============================] - 2s 25ms/step - loss: 0.2280 - accuracy: 0.2270 - val_loss: 0.3361 - val_accuracy: 0.1085\n",
            "Epoch 91/400\n",
            "79/79 [==============================] - 2s 26ms/step - loss: 0.2270 - accuracy: 0.2231 - val_loss: 0.3374 - val_accuracy: 0.1081\n",
            "Epoch 92/400\n",
            "79/79 [==============================] - 2s 26ms/step - loss: 0.2249 - accuracy: 0.2183 - val_loss: 0.3351 - val_accuracy: 0.1023\n",
            "Epoch 93/400\n",
            "79/79 [==============================] - 2s 26ms/step - loss: 0.2242 - accuracy: 0.2317 - val_loss: 0.3368 - val_accuracy: 0.1112\n",
            "Epoch 94/400\n",
            "79/79 [==============================] - 2s 26ms/step - loss: 0.2219 - accuracy: 0.2306 - val_loss: 0.3344 - val_accuracy: 0.1158\n",
            "Epoch 95/400\n",
            "79/79 [==============================] - 2s 26ms/step - loss: 0.2222 - accuracy: 0.2233 - val_loss: 0.3367 - val_accuracy: 0.1192\n",
            "Epoch 96/400\n",
            "79/79 [==============================] - 2s 26ms/step - loss: 0.2204 - accuracy: 0.2421 - val_loss: 0.3363 - val_accuracy: 0.1296\n",
            "Epoch 97/400\n",
            "79/79 [==============================] - 2s 26ms/step - loss: 0.2192 - accuracy: 0.2289 - val_loss: 0.3386 - val_accuracy: 0.1085\n",
            "Epoch 98/400\n",
            "79/79 [==============================] - 2s 26ms/step - loss: 0.2170 - accuracy: 0.2419 - val_loss: 0.3380 - val_accuracy: 0.1173\n",
            "Epoch 99/400\n",
            "79/79 [==============================] - 2s 26ms/step - loss: 0.2175 - accuracy: 0.2452 - val_loss: 0.3375 - val_accuracy: 0.1185\n",
            "Epoch 100/400\n",
            "79/79 [==============================] - 2s 26ms/step - loss: 0.2154 - accuracy: 0.2508 - val_loss: 0.3367 - val_accuracy: 0.1146\n",
            "Epoch 101/400\n",
            "79/79 [==============================] - 2s 26ms/step - loss: 0.2139 - accuracy: 0.2365 - val_loss: 0.3385 - val_accuracy: 0.1096\n",
            "Epoch 102/400\n",
            "79/79 [==============================] - 2s 26ms/step - loss: 0.2130 - accuracy: 0.2456 - val_loss: 0.3390 - val_accuracy: 0.1135\n",
            "Epoch 103/400\n",
            "79/79 [==============================] - 2s 26ms/step - loss: 0.2093 - accuracy: 0.2476 - val_loss: 0.3371 - val_accuracy: 0.1250\n",
            "Epoch 104/400\n",
            "79/79 [==============================] - 2s 27ms/step - loss: 0.2100 - accuracy: 0.2467 - val_loss: 0.3380 - val_accuracy: 0.1235\n",
            "Epoch 105/400\n",
            "79/79 [==============================] - 2s 26ms/step - loss: 0.2073 - accuracy: 0.2502 - val_loss: 0.3383 - val_accuracy: 0.1246\n",
            "Epoch 106/400\n",
            "79/79 [==============================] - 2s 26ms/step - loss: 0.2070 - accuracy: 0.2464 - val_loss: 0.3403 - val_accuracy: 0.1227\n",
            "Epoch 107/400\n",
            "79/79 [==============================] - 2s 26ms/step - loss: 0.2048 - accuracy: 0.2707 - val_loss: 0.3402 - val_accuracy: 0.1335\n",
            "Epoch 108/400\n",
            "79/79 [==============================] - 2s 26ms/step - loss: 0.2037 - accuracy: 0.2602 - val_loss: 0.3391 - val_accuracy: 0.1250\n",
            "Epoch 109/400\n",
            "79/79 [==============================] - 2s 26ms/step - loss: 0.2026 - accuracy: 0.2487 - val_loss: 0.3398 - val_accuracy: 0.1200\n",
            "Epoch 110/400\n",
            "79/79 [==============================] - 2s 26ms/step - loss: 0.2013 - accuracy: 0.2614 - val_loss: 0.3402 - val_accuracy: 0.1250\n",
            "Epoch 111/400\n",
            "79/79 [==============================] - 2s 26ms/step - loss: 0.2013 - accuracy: 0.2633 - val_loss: 0.3418 - val_accuracy: 0.1331\n",
            "Epoch 112/400\n",
            "79/79 [==============================] - 2s 26ms/step - loss: 0.1983 - accuracy: 0.2642 - val_loss: 0.3428 - val_accuracy: 0.1377\n",
            "Epoch 113/400\n",
            "79/79 [==============================] - 2s 26ms/step - loss: 0.1965 - accuracy: 0.2750 - val_loss: 0.3413 - val_accuracy: 0.1254\n",
            "Epoch 114/400\n",
            "79/79 [==============================] - 2s 26ms/step - loss: 0.1981 - accuracy: 0.2512 - val_loss: 0.3418 - val_accuracy: 0.1258\n",
            "0.003 0.883 0.142 0.202 0.121\n"
          ]
        }
      ]
    },
    {
      "cell_type": "code",
      "execution_count": 48,
      "metadata": {},
      "outputs": [
        {
          "output_type": "stream",
          "name": "stdout",
          "text": [
            "[[0. 1. 1. 1. 2. 2. 1. 2. 2. 2. 1. 2. 2. 2. 2. 2. 1. 2. 1. 2. 2. 1. 2. 1.\n  2. 1.]\n [1. 0. 1. 2. 2. 1. 2. 2. 2. 1. 2. 2. 2. 2. 1. 2. 2. 1. 1. 2. 2. 2. 2. 1.\n  1. 2.]\n [1. 1. 0. 1. 1. 2. 1. 2. 1. 1. 2. 2. 2. 2. 1. 2. 2. 2. 2. 2. 1. 1. 2. 1.\n  2. 2.]\n [1. 2. 1. 0. 1. 2. 2. 1. 1. 2. 2. 1. 2. 2. 2. 1. 2. 1. 1. 2. 2. 1. 2. 2.\n  2. 2.]\n [2. 2. 1. 1. 0. 2. 1. 2. 1. 2. 1. 2. 2. 1. 2. 1. 3. 1. 2. 2. 2. 2. 2. 2.\n  2. 2.]\n [2. 1. 2. 2. 2. 0. 1. 2. 2. 2. 1. 2. 3. 2. 2. 1. 2. 1. 2. 1. 2. 2. 2. 2.\n  1. 2.]\n [1. 2. 1. 2. 1. 1. 0. 1. 1. 2. 2. 1. 2. 2. 2. 1. 2. 1. 2. 2. 1. 2. 1. 1.\n  2. 1.]\n [2. 2. 2. 1. 2. 2. 1. 0. 2. 2. 1. 1. 3. 2. 1. 1. 3. 2. 2. 2. 1. 2. 2. 2.\n  2. 1.]\n [2. 2. 1. 1. 1. 2. 1. 2. 0. 1. 2. 2. 2. 2. 1. 2. 2. 1. 1. 3. 2. 2. 2. 2.\n  2. 2.]\n [2. 1. 1. 2. 2. 2. 2. 2. 1. 0. 1. 1. 2. 2. 1. 2. 2. 2. 1. 2. 2. 1. 2. 2.\n  2. 1.]\n [1. 2. 2. 2. 1. 1. 2. 1. 2. 1. 0. 1. 2. 1. 2. 1. 2. 1. 2. 2. 1. 1. 2. 1.\n  2. 2.]\n [2. 2. 2. 1. 2. 2. 1. 1. 2. 1. 1. 0. 2. 2. 1. 2. 2. 1. 2. 2. 1. 1. 1. 2.\n  2. 2.]\n [2. 2. 2. 2. 2. 3. 2. 3. 2. 2. 2. 2. 0. 1. 2. 3. 2. 2. 1. 2. 2. 1. 1. 3.\n  2. 3.]\n [2. 2. 2. 2. 1. 2. 2. 2. 2. 2. 1. 2. 1. 0. 2. 2. 2. 2. 1. 3. 1. 2. 2. 2.\n  1. 3.]\n [2. 1. 1. 2. 2. 2. 2. 1. 1. 1. 2. 1. 2. 2. 0. 2. 2. 1. 2. 2. 1. 1. 2. 1.\n  1. 1.]\n [2. 2. 2. 1. 1. 1. 1. 1. 2. 2. 1. 2. 3. 2. 2. 0. 2. 1. 2. 1. 2. 2. 2. 2.\n  2. 2.]\n [1. 2. 2. 2. 3. 2. 2. 3. 2. 2. 2. 2. 2. 2. 2. 2. 0. 2. 1. 1. 3. 1. 2. 2.\n  2. 2.]\n [2. 1. 2. 1. 1. 1. 1. 2. 1. 2. 1. 1. 2. 2. 1. 1. 2. 0. 1. 2. 2. 1. 2. 1.\n  2. 2.]\n [1. 1. 2. 1. 2. 2. 2. 2. 1. 1. 2. 2. 1. 1. 2. 2. 1. 1. 0. 2. 2. 2. 1. 2.\n  1. 2.]\n [2. 2. 2. 2. 2. 1. 2. 2. 3. 2. 2. 2. 2. 3. 2. 1. 1. 2. 2. 0. 3. 1. 2. 3.\n  2. 3.]\n [2. 2. 1. 2. 2. 2. 1. 1. 2. 2. 1. 1. 2. 1. 1. 2. 3. 2. 2. 3. 0. 2. 2. 2.\n  1. 2.]\n [1. 2. 1. 1. 2. 2. 2. 2. 2. 1. 1. 1. 1. 2. 1. 2. 1. 1. 2. 1. 2. 0. 1. 2.\n  2. 2.]\n [2. 2. 2. 2. 2. 2. 1. 2. 2. 2. 2. 1. 1. 2. 2. 2. 2. 2. 1. 2. 2. 1. 0. 2.\n  1. 2.]\n [1. 1. 1. 2. 2. 2. 1. 2. 2. 2. 1. 2. 3. 2. 1. 2. 2. 1. 2. 3. 2. 2. 2. 0.\n  1. 2.]\n [2. 1. 2. 2. 2. 1. 2. 2. 2. 2. 2. 2. 2. 1. 1. 2. 2. 2. 1. 2. 1. 2. 1. 1.\n  0. 2.]\n [1. 2. 2. 2. 2. 2. 1. 1. 2. 1. 2. 2. 3. 3. 1. 2. 2. 2. 2. 3. 2. 2. 2. 2.\n  2. 0.]]\n"
          ]
        }
      ],
      "source": [
        "print(array)"
      ]
    },
    {
      "cell_type": "code",
      "execution_count": null,
      "metadata": {},
      "outputs": [],
      "source": []
    }
  ]
}